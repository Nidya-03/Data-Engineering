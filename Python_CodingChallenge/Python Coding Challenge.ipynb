{
 "cells": [
  {
   "cell_type": "markdown",
   "id": "ec4e004b",
   "metadata": {},
   "source": [
    "# Web Data Analysis\n"
   ]
  },
  {
   "cell_type": "markdown",
   "id": "2da4d6ad",
   "metadata": {},
   "source": [
    "# Data Summarization"
   ]
  },
  {
   "cell_type": "code",
   "execution_count": 5,
   "id": "0ac4b05f",
   "metadata": {},
   "outputs": [
    {
     "name": "stdout",
     "output_type": "stream",
     "text": [
      "<class 'pandas.core.frame.DataFrame'>\n",
      "RangeIndex: 32109 entries, 0 to 32108\n",
      "Data columns (total 8 columns):\n",
      " #   Column           Non-Null Count  Dtype  \n",
      "---  ------           --------------  -----  \n",
      " 0   Bounces          32109 non-null  int64  \n",
      " 1   Exits            32109 non-null  int64  \n",
      " 2   Continent        32109 non-null  object \n",
      " 3   Sourcegroup      32109 non-null  object \n",
      " 4   Timeinpage       32109 non-null  int64  \n",
      " 5   Uniquepageviews  32109 non-null  int64  \n",
      " 6   Visits           32109 non-null  int64  \n",
      " 7   BouncesNew       32109 non-null  float64\n",
      "dtypes: float64(1), int64(5), object(2)\n",
      "memory usage: 2.0+ MB\n"
     ]
    },
    {
     "data": {
      "text/html": [
       "<div>\n",
       "<style scoped>\n",
       "    .dataframe tbody tr th:only-of-type {\n",
       "        vertical-align: middle;\n",
       "    }\n",
       "\n",
       "    .dataframe tbody tr th {\n",
       "        vertical-align: top;\n",
       "    }\n",
       "\n",
       "    .dataframe thead th {\n",
       "        text-align: right;\n",
       "    }\n",
       "</style>\n",
       "<table border=\"1\" class=\"dataframe\">\n",
       "  <thead>\n",
       "    <tr style=\"text-align: right;\">\n",
       "      <th></th>\n",
       "      <th>Bounces</th>\n",
       "      <th>Exits</th>\n",
       "      <th>Timeinpage</th>\n",
       "      <th>Uniquepageviews</th>\n",
       "      <th>Visits</th>\n",
       "      <th>BouncesNew</th>\n",
       "    </tr>\n",
       "  </thead>\n",
       "  <tbody>\n",
       "    <tr>\n",
       "      <th>count</th>\n",
       "      <td>32109.000000</td>\n",
       "      <td>32109.000000</td>\n",
       "      <td>32109.000000</td>\n",
       "      <td>32109.000000</td>\n",
       "      <td>32109.000000</td>\n",
       "      <td>32109.000000</td>\n",
       "    </tr>\n",
       "    <tr>\n",
       "      <th>mean</th>\n",
       "      <td>0.713009</td>\n",
       "      <td>0.906039</td>\n",
       "      <td>73.184746</td>\n",
       "      <td>1.114329</td>\n",
       "      <td>0.906039</td>\n",
       "      <td>0.007130</td>\n",
       "    </tr>\n",
       "    <tr>\n",
       "      <th>std</th>\n",
       "      <td>0.708215</td>\n",
       "      <td>0.695819</td>\n",
       "      <td>394.441111</td>\n",
       "      <td>0.614880</td>\n",
       "      <td>0.730068</td>\n",
       "      <td>0.007082</td>\n",
       "    </tr>\n",
       "    <tr>\n",
       "      <th>min</th>\n",
       "      <td>0.000000</td>\n",
       "      <td>0.000000</td>\n",
       "      <td>0.000000</td>\n",
       "      <td>1.000000</td>\n",
       "      <td>0.000000</td>\n",
       "      <td>0.000000</td>\n",
       "    </tr>\n",
       "    <tr>\n",
       "      <th>25%</th>\n",
       "      <td>0.000000</td>\n",
       "      <td>1.000000</td>\n",
       "      <td>0.000000</td>\n",
       "      <td>1.000000</td>\n",
       "      <td>1.000000</td>\n",
       "      <td>0.000000</td>\n",
       "    </tr>\n",
       "    <tr>\n",
       "      <th>50%</th>\n",
       "      <td>1.000000</td>\n",
       "      <td>1.000000</td>\n",
       "      <td>0.000000</td>\n",
       "      <td>1.000000</td>\n",
       "      <td>1.000000</td>\n",
       "      <td>0.010000</td>\n",
       "    </tr>\n",
       "    <tr>\n",
       "      <th>75%</th>\n",
       "      <td>1.000000</td>\n",
       "      <td>1.000000</td>\n",
       "      <td>10.000000</td>\n",
       "      <td>1.000000</td>\n",
       "      <td>1.000000</td>\n",
       "      <td>0.010000</td>\n",
       "    </tr>\n",
       "    <tr>\n",
       "      <th>max</th>\n",
       "      <td>30.000000</td>\n",
       "      <td>36.000000</td>\n",
       "      <td>46745.000000</td>\n",
       "      <td>45.000000</td>\n",
       "      <td>45.000000</td>\n",
       "      <td>0.300000</td>\n",
       "    </tr>\n",
       "  </tbody>\n",
       "</table>\n",
       "</div>"
      ],
      "text/plain": [
       "            Bounces         Exits    Timeinpage  Uniquepageviews  \\\n",
       "count  32109.000000  32109.000000  32109.000000     32109.000000   \n",
       "mean       0.713009      0.906039     73.184746         1.114329   \n",
       "std        0.708215      0.695819    394.441111         0.614880   \n",
       "min        0.000000      0.000000      0.000000         1.000000   \n",
       "25%        0.000000      1.000000      0.000000         1.000000   \n",
       "50%        1.000000      1.000000      0.000000         1.000000   \n",
       "75%        1.000000      1.000000     10.000000         1.000000   \n",
       "max       30.000000     36.000000  46745.000000        45.000000   \n",
       "\n",
       "             Visits    BouncesNew  \n",
       "count  32109.000000  32109.000000  \n",
       "mean       0.906039      0.007130  \n",
       "std        0.730068      0.007082  \n",
       "min        0.000000      0.000000  \n",
       "25%        1.000000      0.000000  \n",
       "50%        1.000000      0.010000  \n",
       "75%        1.000000      0.010000  \n",
       "max       45.000000      0.300000  "
      ]
     },
     "execution_count": 5,
     "metadata": {},
     "output_type": "execute_result"
    }
   ],
   "source": [
    "#Using Pandas\n",
    "import pandas as pd\n",
    "data = pd.read_csv(\"project.xlsx - InternetCaseStudy.csv\")\n",
    "data.info()"
   ]
  },
  {
   "cell_type": "code",
   "execution_count": 6,
   "id": "acc74b81",
   "metadata": {},
   "outputs": [
    {
     "data": {
      "text/html": [
       "<div>\n",
       "<style scoped>\n",
       "    .dataframe tbody tr th:only-of-type {\n",
       "        vertical-align: middle;\n",
       "    }\n",
       "\n",
       "    .dataframe tbody tr th {\n",
       "        vertical-align: top;\n",
       "    }\n",
       "\n",
       "    .dataframe thead th {\n",
       "        text-align: right;\n",
       "    }\n",
       "</style>\n",
       "<table border=\"1\" class=\"dataframe\">\n",
       "  <thead>\n",
       "    <tr style=\"text-align: right;\">\n",
       "      <th></th>\n",
       "      <th>Bounces</th>\n",
       "      <th>Exits</th>\n",
       "      <th>Timeinpage</th>\n",
       "      <th>Uniquepageviews</th>\n",
       "      <th>Visits</th>\n",
       "      <th>BouncesNew</th>\n",
       "    </tr>\n",
       "  </thead>\n",
       "  <tbody>\n",
       "    <tr>\n",
       "      <th>count</th>\n",
       "      <td>32109.000000</td>\n",
       "      <td>32109.000000</td>\n",
       "      <td>32109.000000</td>\n",
       "      <td>32109.000000</td>\n",
       "      <td>32109.000000</td>\n",
       "      <td>32109.000000</td>\n",
       "    </tr>\n",
       "    <tr>\n",
       "      <th>mean</th>\n",
       "      <td>0.713009</td>\n",
       "      <td>0.906039</td>\n",
       "      <td>73.184746</td>\n",
       "      <td>1.114329</td>\n",
       "      <td>0.906039</td>\n",
       "      <td>0.007130</td>\n",
       "    </tr>\n",
       "    <tr>\n",
       "      <th>std</th>\n",
       "      <td>0.708215</td>\n",
       "      <td>0.695819</td>\n",
       "      <td>394.441111</td>\n",
       "      <td>0.614880</td>\n",
       "      <td>0.730068</td>\n",
       "      <td>0.007082</td>\n",
       "    </tr>\n",
       "    <tr>\n",
       "      <th>min</th>\n",
       "      <td>0.000000</td>\n",
       "      <td>0.000000</td>\n",
       "      <td>0.000000</td>\n",
       "      <td>1.000000</td>\n",
       "      <td>0.000000</td>\n",
       "      <td>0.000000</td>\n",
       "    </tr>\n",
       "    <tr>\n",
       "      <th>25%</th>\n",
       "      <td>0.000000</td>\n",
       "      <td>1.000000</td>\n",
       "      <td>0.000000</td>\n",
       "      <td>1.000000</td>\n",
       "      <td>1.000000</td>\n",
       "      <td>0.000000</td>\n",
       "    </tr>\n",
       "    <tr>\n",
       "      <th>50%</th>\n",
       "      <td>1.000000</td>\n",
       "      <td>1.000000</td>\n",
       "      <td>0.000000</td>\n",
       "      <td>1.000000</td>\n",
       "      <td>1.000000</td>\n",
       "      <td>0.010000</td>\n",
       "    </tr>\n",
       "    <tr>\n",
       "      <th>75%</th>\n",
       "      <td>1.000000</td>\n",
       "      <td>1.000000</td>\n",
       "      <td>10.000000</td>\n",
       "      <td>1.000000</td>\n",
       "      <td>1.000000</td>\n",
       "      <td>0.010000</td>\n",
       "    </tr>\n",
       "    <tr>\n",
       "      <th>max</th>\n",
       "      <td>30.000000</td>\n",
       "      <td>36.000000</td>\n",
       "      <td>46745.000000</td>\n",
       "      <td>45.000000</td>\n",
       "      <td>45.000000</td>\n",
       "      <td>0.300000</td>\n",
       "    </tr>\n",
       "  </tbody>\n",
       "</table>\n",
       "</div>"
      ],
      "text/plain": [
       "            Bounces         Exits    Timeinpage  Uniquepageviews  \\\n",
       "count  32109.000000  32109.000000  32109.000000     32109.000000   \n",
       "mean       0.713009      0.906039     73.184746         1.114329   \n",
       "std        0.708215      0.695819    394.441111         0.614880   \n",
       "min        0.000000      0.000000      0.000000         1.000000   \n",
       "25%        0.000000      1.000000      0.000000         1.000000   \n",
       "50%        1.000000      1.000000      0.000000         1.000000   \n",
       "75%        1.000000      1.000000     10.000000         1.000000   \n",
       "max       30.000000     36.000000  46745.000000        45.000000   \n",
       "\n",
       "             Visits    BouncesNew  \n",
       "count  32109.000000  32109.000000  \n",
       "mean       0.906039      0.007130  \n",
       "std        0.730068      0.007082  \n",
       "min        0.000000      0.000000  \n",
       "25%        1.000000      0.000000  \n",
       "50%        1.000000      0.010000  \n",
       "75%        1.000000      0.010000  \n",
       "max       45.000000      0.300000  "
      ]
     },
     "execution_count": 6,
     "metadata": {},
     "output_type": "execute_result"
    }
   ],
   "source": [
    "data.describe()"
   ]
  },
  {
   "cell_type": "code",
   "execution_count": 13,
   "id": "6cc45a14",
   "metadata": {},
   "outputs": [
    {
     "data": {
      "text/plain": [
       "Bounces              int64\n",
       "Exits                int64\n",
       "Continent           object\n",
       "Sourcegroup         object\n",
       "Timeinpage           int64\n",
       "Uniquepageviews      int64\n",
       "Visits               int64\n",
       "BouncesNew         float64\n",
       "dtype: object"
      ]
     },
     "execution_count": 13,
     "metadata": {},
     "output_type": "execute_result"
    }
   ],
   "source": [
    "data.dtypes"
   ]
  },
  {
   "cell_type": "code",
   "execution_count": 11,
   "id": "e5e46175",
   "metadata": {},
   "outputs": [
    {
     "data": {
      "text/plain": [
       "count    32109.000000\n",
       "mean         0.713009\n",
       "std          0.708215\n",
       "min          0.000000\n",
       "25%          0.000000\n",
       "50%          1.000000\n",
       "75%          1.000000\n",
       "max         30.000000\n",
       "Name: Bounces, dtype: float64"
      ]
     },
     "execution_count": 11,
     "metadata": {},
     "output_type": "execute_result"
    }
   ],
   "source": [
    "data['Bounces'].describe()"
   ]
  },
  {
   "cell_type": "code",
   "execution_count": 14,
   "id": "39aca518",
   "metadata": {},
   "outputs": [
    {
     "data": {
      "text/plain": [
       "count    32109.000000\n",
       "mean         0.906039\n",
       "std          0.695819\n",
       "min          0.000000\n",
       "25%          1.000000\n",
       "50%          1.000000\n",
       "75%          1.000000\n",
       "max         36.000000\n",
       "Name: Exits, dtype: float64"
      ]
     },
     "execution_count": 14,
     "metadata": {},
     "output_type": "execute_result"
    }
   ],
   "source": [
    "data['Exits'].describe()"
   ]
  },
  {
   "cell_type": "code",
   "execution_count": 15,
   "id": "3e05480b",
   "metadata": {},
   "outputs": [
    {
     "data": {
      "text/plain": [
       "count         32109\n",
       "unique            6\n",
       "top       N.America\n",
       "freq          20043\n",
       "Name: Continent, dtype: object"
      ]
     },
     "execution_count": 15,
     "metadata": {},
     "output_type": "execute_result"
    }
   ],
   "source": [
    "data['Continent'].describe()"
   ]
  },
  {
   "cell_type": "code",
   "execution_count": 17,
   "id": "65b60221",
   "metadata": {},
   "outputs": [
    {
     "data": {
      "text/plain": [
       "count      32109\n",
       "unique         9\n",
       "top       google\n",
       "freq       11542\n",
       "Name: Sourcegroup, dtype: object"
      ]
     },
     "execution_count": 17,
     "metadata": {},
     "output_type": "execute_result"
    }
   ],
   "source": [
    "data['Sourcegroup'].describe()"
   ]
  },
  {
   "cell_type": "code",
   "execution_count": 18,
   "id": "3b5f08d0",
   "metadata": {},
   "outputs": [
    {
     "data": {
      "text/plain": [
       "count    32109.000000\n",
       "mean        73.184746\n",
       "std        394.441111\n",
       "min          0.000000\n",
       "25%          0.000000\n",
       "50%          0.000000\n",
       "75%         10.000000\n",
       "max      46745.000000\n",
       "Name: Timeinpage, dtype: float64"
      ]
     },
     "execution_count": 18,
     "metadata": {},
     "output_type": "execute_result"
    }
   ],
   "source": [
    "data['Timeinpage'].describe()"
   ]
  },
  {
   "cell_type": "code",
   "execution_count": 19,
   "id": "aaf3839c",
   "metadata": {},
   "outputs": [
    {
     "data": {
      "text/plain": [
       "count    32109.000000\n",
       "mean         1.114329\n",
       "std          0.614880\n",
       "min          1.000000\n",
       "25%          1.000000\n",
       "50%          1.000000\n",
       "75%          1.000000\n",
       "max         45.000000\n",
       "Name: Uniquepageviews, dtype: float64"
      ]
     },
     "execution_count": 19,
     "metadata": {},
     "output_type": "execute_result"
    }
   ],
   "source": [
    "data['Uniquepageviews'].describe()"
   ]
  },
  {
   "cell_type": "code",
   "execution_count": 20,
   "id": "554e5db7",
   "metadata": {},
   "outputs": [
    {
     "data": {
      "text/plain": [
       "count    32109.000000\n",
       "mean         0.906039\n",
       "std          0.730068\n",
       "min          0.000000\n",
       "25%          1.000000\n",
       "50%          1.000000\n",
       "75%          1.000000\n",
       "max         45.000000\n",
       "Name: Visits, dtype: float64"
      ]
     },
     "execution_count": 20,
     "metadata": {},
     "output_type": "execute_result"
    }
   ],
   "source": [
    "data['Visits'].describe()"
   ]
  },
  {
   "cell_type": "code",
   "execution_count": 21,
   "id": "fd1f4a26",
   "metadata": {},
   "outputs": [
    {
     "data": {
      "text/plain": [
       "count    32109.000000\n",
       "mean         0.007130\n",
       "std          0.007082\n",
       "min          0.000000\n",
       "25%          0.000000\n",
       "50%          0.010000\n",
       "75%          0.010000\n",
       "max          0.300000\n",
       "Name: BouncesNew, dtype: float64"
      ]
     },
     "execution_count": 21,
     "metadata": {},
     "output_type": "execute_result"
    }
   ],
   "source": [
    "data['BouncesNew'].describe()"
   ]
  },
  {
   "cell_type": "code",
   "execution_count": 23,
   "id": "5470c564",
   "metadata": {},
   "outputs": [
    {
     "data": {
      "image/png": "[encoded data removed]",
      "text/plain": [
       "<Figure size 432x288 with 1 Axes>"
      ]
     },
     "metadata": {
      "needs_background": "light"
     },
     "output_type": "display_data"
    }
   ],
   "source": [
    "#using matplotlib\n",
    "import matplotlib.pyplot as plt\n",
    "continent_counts = data['Continent'].value_counts()\n",
    "\n",
    "plt.bar(continent_counts.index, continent_counts.values, color='skyblue')\n",
    "plt.xlabel('Continent')\n",
    "plt.ylabel('Number of Visits')\n",
    "plt.title('Number of Visits by Continent')\n",
    "plt.xticks(rotation=90)\n",
    "plt.show()\n"
   ]
  },
  {
   "cell_type": "markdown",
   "id": "e8560243",
   "metadata": {},
   "source": [
    "# The team needs to know whether the unique page view value depends on visits.\n",
    "\n",
    "Visits:Counts all instances of page visits, regardless of whether they are from the same session or the same user.\n",
    "\n",
    "\n",
    "Unique pageview :If a user visits the same page multiple times within a single session, it is counted as one unique page view for that session.\n",
    "\n"
   ]
  },
  {
   "cell_type": "code",
   "execution_count": 27,
   "id": "369cbfa5",
   "metadata": {},
   "outputs": [
    {
     "name": "stdout",
     "output_type": "stream",
     "text": [
      "Correlation between Visits and Unique Pageview: 0.8144457070734604\n"
     ]
    }
   ],
   "source": [
    "#using pandas\n",
    "# Calculate correlation between 'Visits' and 'Unique pageview'\n",
    "correlation = data['Visits'].corr(data['Uniquepageviews'])\n",
    "print(f\"Correlation between Visits and Unique Pageview: {correlation}\")\n",
    "\n"
   ]
  },
  {
   "cell_type": "code",
   "execution_count": 32,
   "id": "3cadd6d2",
   "metadata": {},
   "outputs": [
    {
     "data": {
      "image/png": "[encoded data removed]",
      "text/plain": [
       "<Figure size 432x288 with 2 Axes>"
      ]
     },
     "metadata": {
      "needs_background": "light"
     },
     "output_type": "display_data"
    }
   ],
   "source": [
    "import seaborn as sns\n",
    "import matplotlib.pyplot as plt\n",
    "\n",
    "# Calculate the correlation matrix\n",
    "correlation_matrix = data[['Visits', 'Uniquepageviews']].corr()\n",
    "\n",
    "sns.heatmap(correlation_matrix, annot=True, cmap='coolwarm', vmin=-1, vmax=1)\n",
    "plt.title('Correlation between Visits and Unique Pageview')\n",
    "plt.show()\n"
   ]
  },
  {
   "cell_type": "markdown",
   "id": "ff14ca31",
   "metadata": {},
   "source": [
    "# Find out the probable factors from the dataset, which could affect the exits. Exit Page Analysis "
   ]
  },
  {
   "cell_type": "code",
   "execution_count": null,
   "id": "b4f7be8f",
   "metadata": {},
   "outputs": [],
   "source": []
  },
  {
   "cell_type": "code",
   "execution_count": 57,
   "id": "b2bb604d",
   "metadata": {},
   "outputs": [
    {
     "name": "stdout",
     "output_type": "stream",
     "text": [
      "                    Exits  Timeinpage    Visits  Uniquepageviews   Bounces\n",
      "Exits            1.000000    0.001325  0.800979         0.791129  0.824912\n",
      "Timeinpage       0.001325    1.000000  0.066650         0.114593 -0.109106\n",
      "Visits           0.800979    0.066650  1.000000         0.814446  0.819343\n",
      "Uniquepageviews  0.791129    0.114593  0.814446         1.000000  0.659101\n",
      "Bounces          0.824912   -0.109106  0.819343         0.659101  1.000000\n",
      "Exits has a strong positive relationship with: Visits\n",
      "Exits has a strong positive relationship with: Uniquepageviews\n",
      "Exits has a strong positive relationship with: Bounces\n"
     ]
    }
   ],
   "source": [
    "# Correlation analysis between Exits and other variables\n",
    "correlation_matrix = data[['Exits','Timeinpage', 'Visits', 'Uniquepageviews', 'Bounces']].corr()\n",
    "print(correlation_matrix)\n",
    "\n",
    "for column in correlation_matrix.columns:\n",
    "    if column != 'Exits':  \n",
    "        if correlation_matrix.loc['Exits', column] >0.5  and correlation_matrix.loc['Exits', column]<=1 :\n",
    "            print(f\"Exits has a strong positive relationship with: {column}\")\n"
   ]
  },
  {
   "cell_type": "code",
   "execution_count": 68,
   "id": "36e84400",
   "metadata": {},
   "outputs": [
    {
     "data": {
      "image/png": "[encoded data removed]",
      "text/plain": [
       "<Figure size 432x288 with 2 Axes>"
      ]
     },
     "metadata": {
      "needs_background": "light"
     },
     "output_type": "display_data"
    }
   ],
   "source": [
    "sns.heatmap(data[['Exits','Timeinpage', 'Visits', 'Uniquepageviews', 'Bounces']].corr(), annot=True, cmap='coolwarm')\n",
    "plt.title('Factors affecting the Exits')\n",
    "plt.show()\n"
   ]
  },
  {
   "cell_type": "code",
   "execution_count": 53,
   "id": "ff12318d",
   "metadata": {},
   "outputs": [
    {
     "data": {
      "image/png": "[encoded data removed]",
      "text/plain": [
       "<Figure size 864x432 with 1 Axes>"
      ]
     },
     "metadata": {
      "needs_background": "light"
     },
     "output_type": "display_data"
    }
   ],
   "source": [
    "import seaborn as sns\n",
    "import matplotlib.pyplot as plt\n",
    "\n",
    "# Create a count plot for Exits by Source Group\n",
    "plt.figure(figsize=(12, 6))\n",
    "sns.countplot(x='Sourcegroup', hue='Exits', data=data, palette='coolwarm')\n",
    "plt.title('Exits by Source Group')\n",
    "plt.xlabel('Source Group')\n",
    "plt.ylabel('Number of Visits')\n",
    "plt.xticks(rotation=45)  \n",
    "plt.show()\n"
   ]
  },
  {
   "cell_type": "markdown",
   "id": "8d5c331a",
   "metadata": {},
   "source": [
    "#  Find the variables which possibly have an effect on the time on page.\n"
   ]
  },
  {
   "cell_type": "code",
   "execution_count": 71,
   "id": "d2979cac",
   "metadata": {},
   "outputs": [
    {
     "name": "stdout",
     "output_type": "stream",
     "text": [
      "                    Exits  Timeinpage    Visits  Uniquepageviews   Bounces\n",
      "Exits            1.000000    0.001325  0.800979         0.791129  0.824912\n",
      "Timeinpage       0.001325    1.000000  0.066650         0.114593 -0.109106\n",
      "Visits           0.800979    0.066650  1.000000         0.814446  0.819343\n",
      "Uniquepageviews  0.791129    0.114593  0.814446         1.000000  0.659101\n",
      "Bounces          0.824912   -0.109106  0.819343         0.659101  1.000000\n",
      "Nothing is much affecting the time on page\n"
     ]
    }
   ],
   "source": [
    "\n",
    "correlation_matrix = data[['Exits','Timeinpage', 'Visits', 'Uniquepageviews', 'Bounces']].corr()\n",
    "print(correlation_matrix)\n",
    "\n",
    "for column in correlation_matrix.columns:\n",
    "    if column != 'Timeinpage':  \n",
    "        if correlation_matrix.loc['Timeinpage', column] >0.6:\n",
    "            print(f\"Timeinpage has a strong positive relationship with: {column}\")\n",
    "    else:\n",
    "            print(\"Nothing is much affecting the time on page\")    \n"
   ]
  },
  {
   "cell_type": "markdown",
   "id": "52e69192",
   "metadata": {},
   "source": [
    "# Help the team in determining the factors that are impacting the bounce.\n"
   ]
  },
  {
   "cell_type": "code",
   "execution_count": 70,
   "id": "4fd7b4d5",
   "metadata": {},
   "outputs": [
    {
     "name": "stdout",
     "output_type": "stream",
     "text": [
      "                    Exits  Timeinpage    Visits  Uniquepageviews   Bounces\n",
      "Exits            1.000000    0.001325  0.800979         0.791129  0.824912\n",
      "Timeinpage       0.001325    1.000000  0.066650         0.114593 -0.109106\n",
      "Visits           0.800979    0.066650  1.000000         0.814446  0.819343\n",
      "Uniquepageviews  0.791129    0.114593  0.814446         1.000000  0.659101\n",
      "Bounces          0.824912   -0.109106  0.819343         0.659101  1.000000\n",
      "Bounces has a strong positive relationship with: Exits\n",
      "Bounces has a strong positive relationship with: Visits\n",
      "Bounces has a strong positive relationship with: Uniquepageviews\n"
     ]
    }
   ],
   "source": [
    "# Calculate the correlation matrix\n",
    "correlation_matrix = data[['Exits', 'Timeinpage', 'Visits', 'Uniquepageviews', 'Bounces']].corr()\n",
    "print(correlation_matrix)\n",
    "\n",
    "for column in correlation_matrix.columns:\n",
    "    if column != 'Bounces': \n",
    "        correlation_value = correlation_matrix.loc['Bounces', column]\n",
    "        if correlation_value > 0.6:\n",
    "            print(f\"Bounces has a strong positive relationship with: {column}\")\n"
   ]
  },
  {
   "cell_type": "code",
   "execution_count": 74,
   "id": "29cd72c8",
   "metadata": {},
   "outputs": [
    {
     "data": {
      "image/png": "[encoded data removed]",
      "text/plain": [
       "<Figure size 432x288 with 2 Axes>"
      ]
     },
     "metadata": {
      "needs_background": "light"
     },
     "output_type": "display_data"
    }
   ],
   "source": [
    "sns.heatmap(data[['Exits','Timeinpage', 'Visits', 'Uniquepageviews', 'Bounces']].corr(), annot=True, cmap='coolwarm')\n",
    "plt.title('Factors impacting Bounces')\n",
    "plt.show()"
   ]
  },
  {
   "cell_type": "code",
   "execution_count": null,
   "id": "cad66e54",
   "metadata": {},
   "outputs": [],
   "source": []
  }
 ],
 "metadata": {
  "kernelspec": {
   "display_name": "Python 3",
   "language": "python",
   "name": "python3"
  },
  "language_info": {
   "codemirror_mode": {
    "name": "ipython",
    "version": 3
   },
   "file_extension": ".py",
   "mimetype": "text/x-python",
   "name": "python",
   "nbconvert_exporter": "python",
   "pygments_lexer": "ipython3",
   "version": "3.8.8"
  }
 },
 "nbformat": 4,
 "nbformat_minor": 5
}
